{
 "cells": [
  {
   "cell_type": "code",
   "execution_count": 24,
   "metadata": {},
   "outputs": [
    {
     "name": "stdout",
     "output_type": "stream",
     "text": [
      "1.176470588235294e-07\n",
      "1.7357597096632978e-05\n",
      "0.0001\n"
     ]
    }
   ],
   "source": [
    "import numpy as np\n",
    "np.set_printoptions(precision=2)\n",
    "\n",
    "# all temps in centigrade\n",
    "brownie_target = 85\n",
    "room_temp = 18.333\n",
    "side_length = 20\n",
    "pan_temp = room_temp\n",
    "oven_temp = 162.778\n",
    "\n",
    "h = 9.14\n",
    "A = 0.0001 # 0.01m ^2\n",
    "\n",
    "brownie_density = 500\n",
    "brownie_specific_heat = 2550\n",
    "brownie_conductivity = 0.15\n",
    "brownie_alpha = brownie_conductivity / (brownie_density * brownie_specific_heat)\n",
    "\n",
    "steel_density = 7832\n",
    "steel_specific_heat = 434\n",
    "steel_conductivity = 59\n",
    "steel_alpha = steel_conductivity / (steel_density * steel_specific_heat)\n",
    "\n",
    "print(brownie_alpha)\n",
    "print(steel_alpha)\n",
    "print(A)\n",
    "\n",
    "def initialize_brownie_pan(side_length, room_temp):\n",
    "    return np.full((side_length, side_length), room_temp)\n"
   ]
  },
  {
   "cell_type": "code",
   "execution_count": 25,
   "metadata": {},
   "outputs": [],
   "source": [
    "def heat_transfer_over_increment(brownie_pan: np.array, pan_temp, dx, dt):\n",
    "    # heat transfer from oven to pan\n",
    "    d_pan_temp = h * A * (oven_temp - pan_temp)\n",
    "    pan_temp += dt * d_pan_temp \n",
    "\n",
    "    # heat transfer from pan to brownie\n",
    "    time_derivative = np.zeros(brownie_pan.shape)\n",
    "    for x in range(side_length):\n",
    "        for y in range(side_length):\n",
    "            # edge\n",
    "            if (x == 0 and y == 0): # top left corner\n",
    "                outside_squares = 2 * pan_temp \n",
    "                surrounding_squares = brownie_pan[x][y+1] + brownie_pan[x+1][y] + outside_squares\n",
    "                curr_square = 4 * brownie_pan[x][y]\n",
    "            elif (x == 0 and y == (side_length - 1)): # bottom left corner\n",
    "                outside_squares = 2 * pan_temp \n",
    "                surrounding_squares = brownie_pan[x][y-1] + brownie_pan[x+1][y] + outside_squares\n",
    "                curr_square = 4 * brownie_pan[x][y]\n",
    "            elif (x == (side_length - 1) and y == 0): # top right corner\n",
    "                outside_squares = 2 * pan_temp \n",
    "                surrounding_squares = brownie_pan[x][y+1] + brownie_pan[x-1][y] + outside_squares\n",
    "                curr_square = 4 * brownie_pan[x][y]\n",
    "            elif (x == (side_length - 1) and y == (side_length - 1)): # bottom right corner\n",
    "                outside_squares = 2 * pan_temp \n",
    "                surrounding_squares = brownie_pan[x][y-1] + brownie_pan[x-1][y] + outside_squares\n",
    "                curr_square = 4 * brownie_pan[x][y]\n",
    "            elif x == 0: # left edge\n",
    "                surrounding_squares = brownie_pan[x][y+1] + brownie_pan[x][y-1] + brownie_pan[x+1][y] + pan_temp\n",
    "                curr_square = 4 * brownie_pan[x][y]\n",
    "            elif y == 0: # top edge\n",
    "                surrounding_squares = brownie_pan[x+1][y] + brownie_pan[x-1][y] + brownie_pan[x][y+1] + pan_temp\n",
    "                curr_square = 4 * brownie_pan[x][y]\n",
    "            elif x == (side_length - 1): # right edge\n",
    "                surrounding_squares = brownie_pan[x][y+1] + brownie_pan[x][y-1] + brownie_pan[x-1][y] + pan_temp\n",
    "                curr_square = 4 * brownie_pan[x][y]\n",
    "            elif y == (side_length - 1): # bottom edge\n",
    "                surrounding_squares = brownie_pan[x+1][y] + brownie_pan[x-1][y] + brownie_pan[x][y-1] + pan_temp\n",
    "                curr_square = 4 * brownie_pan[x][y]\n",
    "            else:\n",
    "                surrounding_squares = brownie_pan[x + 1][y] + brownie_pan[x - 1][y] + brownie_pan[x][y + 1] + brownie_pan[x][y - 1]\n",
    "                curr_square = 4 * brownie_pan[x][y]\n",
    "\n",
    "            time_derivative[x][y] = (brownie_alpha / (dx ** 2)) * (surrounding_squares - curr_square + pan_temp)\n",
    "\n",
    "    brownie_pan += (time_derivative * dt)\n",
    "    return brownie_pan, pan_temp\n",
    "\n"
   ]
  },
  {
   "cell_type": "code",
   "execution_count": 26,
   "metadata": {},
   "outputs": [
    {
     "name": "stdout",
     "output_type": "stream",
     "text": [
      "14.7945 minutes of cooking\n",
      "98.60614464554101\n",
      "[[99.66 96.52 95.14 94.77 94.69 94.67 94.67 94.67 94.67 94.67 94.67 94.67\n",
      "  94.67 94.67 94.67 94.69 94.77 95.14 96.52 99.66]\n",
      " [96.52 91.29 89.14 88.55 88.43 88.41 88.4  88.4  88.4  88.4  88.4  88.4\n",
      "  88.4  88.4  88.41 88.43 88.55 89.14 91.29 96.52]\n",
      " [95.14 89.14 86.69 86.03 85.89 85.87 85.86 85.86 85.86 85.86 85.86 85.86\n",
      "  85.86 85.86 85.87 85.89 86.03 86.69 89.14 95.14]\n",
      " [94.77 88.55 86.03 85.35 85.2  85.18 85.17 85.17 85.17 85.17 85.17 85.17\n",
      "  85.17 85.17 85.18 85.2  85.35 86.03 88.55 94.77]\n",
      " [94.69 88.43 85.89 85.2  85.06 85.03 85.03 85.03 85.03 85.03 85.03 85.03\n",
      "  85.03 85.03 85.03 85.06 85.2  85.89 88.43 94.69]\n",
      " [94.67 88.41 85.87 85.18 85.03 85.01 85.01 85.01 85.01 85.01 85.01 85.01\n",
      "  85.01 85.01 85.01 85.03 85.18 85.87 88.41 94.67]\n",
      " [94.67 88.4  85.86 85.17 85.03 85.01 85.   85.   85.   85.   85.   85.\n",
      "  85.   85.   85.01 85.03 85.17 85.86 88.4  94.67]\n",
      " [94.67 88.4  85.86 85.17 85.03 85.01 85.   85.   85.   85.   85.   85.\n",
      "  85.   85.   85.01 85.03 85.17 85.86 88.4  94.67]\n",
      " [94.67 88.4  85.86 85.17 85.03 85.01 85.   85.   85.   85.   85.   85.\n",
      "  85.   85.   85.01 85.03 85.17 85.86 88.4  94.67]\n",
      " [94.67 88.4  85.86 85.17 85.03 85.01 85.   85.   85.   85.   85.   85.\n",
      "  85.   85.   85.01 85.03 85.17 85.86 88.4  94.67]\n",
      " [94.67 88.4  85.86 85.17 85.03 85.01 85.   85.   85.   85.   85.   85.\n",
      "  85.   85.   85.01 85.03 85.17 85.86 88.4  94.67]\n",
      " [94.67 88.4  85.86 85.17 85.03 85.01 85.   85.   85.   85.   85.   85.\n",
      "  85.   85.   85.01 85.03 85.17 85.86 88.4  94.67]\n",
      " [94.67 88.4  85.86 85.17 85.03 85.01 85.   85.   85.   85.   85.   85.\n",
      "  85.   85.   85.01 85.03 85.17 85.86 88.4  94.67]\n",
      " [94.67 88.4  85.86 85.17 85.03 85.01 85.   85.   85.   85.   85.   85.\n",
      "  85.   85.   85.01 85.03 85.17 85.86 88.4  94.67]\n",
      " [94.67 88.41 85.87 85.18 85.03 85.01 85.01 85.01 85.01 85.01 85.01 85.01\n",
      "  85.01 85.01 85.01 85.03 85.18 85.87 88.41 94.67]\n",
      " [94.69 88.43 85.89 85.2  85.06 85.03 85.03 85.03 85.03 85.03 85.03 85.03\n",
      "  85.03 85.03 85.03 85.06 85.2  85.89 88.43 94.69]\n",
      " [94.77 88.55 86.03 85.35 85.2  85.18 85.17 85.17 85.17 85.17 85.17 85.17\n",
      "  85.17 85.17 85.18 85.2  85.35 86.03 88.55 94.77]\n",
      " [95.14 89.14 86.69 86.03 85.89 85.87 85.86 85.86 85.86 85.86 85.86 85.86\n",
      "  85.86 85.86 85.87 85.89 86.03 86.69 89.14 95.14]\n",
      " [96.52 91.29 89.14 88.55 88.43 88.41 88.4  88.4  88.4  88.4  88.4  88.4\n",
      "  88.4  88.4  88.41 88.43 88.55 89.14 91.29 96.52]\n",
      " [99.66 96.52 95.14 94.77 94.69 94.67 94.67 94.67 94.67 94.67 94.67 94.67\n",
      "  94.67 94.67 94.67 94.69 94.77 95.14 96.52 99.66]]\n"
     ]
    }
   ],
   "source": [
    "brownie_pan = initialize_brownie_pan(side_length, room_temp)\n",
    "counter = 0\n",
    "while True:\n",
    "    brownie_pan, pan_temp = heat_transfer_over_increment(brownie_pan, pan_temp, dx=0.01, dt=0.01) # 0.01 meters (1cm), 0.01 seconds\n",
    "    # if counter % 10000 == 0:\n",
    "    #     print(brownie_pan)\n",
    "    counter += 1\n",
    "    if brownie_pan[int(side_length/2)][int(side_length/2)] >= brownie_target:\n",
    "        print(f\"{counter / 100 / 60} minutes of cooking\")\n",
    "        print(pan_temp)\n",
    "        break\n",
    "\n",
    "print(brownie_pan)"
   ]
  },
  {
   "cell_type": "code",
   "execution_count": 27,
   "metadata": {},
   "outputs": [
    {
     "name": "stdout",
     "output_type": "stream",
     "text": [
      "1.4817411096794608\n"
     ]
    }
   ],
   "source": [
    "cooked_baseline = np.full((side_length, side_length), brownie_target + 3)\n",
    "\n",
    "over_cooked = brownie_pan - cooked_baseline\n",
    "over_cooked = over_cooked.clip(min=0)\n",
    "\n",
    "avg_error = np.sum(over_cooked) / (side_length ** 2)\n",
    "\n",
    "print(avg_error)"
   ]
  },
  {
   "cell_type": "code",
   "execution_count": 31,
   "metadata": {},
   "outputs": [
    {
     "name": "stderr",
     "output_type": "stream",
     "text": [
      "/tmp/ipykernel_1567/1873754671.py:16: MatplotlibDeprecationWarning: shading='flat' when X and Y have the same dimensions as C is deprecated since 3.3.  Either specify the corners of the quadrilaterals with X and Y, or pass shading='auto', 'nearest' or 'gouraud', or set rcParams['pcolor.shading'].  This will become an error two minor releases later.\n",
      "  c = ax.pcolormesh(x, y, z, cmap='PuRd', vmin=z_min, vmax=z_max)\n"
     ]
    },
    {
     "data": {
      "image/png": "[encoded data removed]",
      "text/plain": [
       "<Figure size 432x288 with 2 Axes>"
      ]
     },
     "metadata": {
      "needs_background": "light"
     },
     "output_type": "display_data"
    }
   ],
   "source": [
    "import matplotlib.pyplot as plt\n",
    "import numpy as np\n",
    "\n",
    "# generate 2 2d grids for the x & y bounds\n",
    "y, x = np.meshgrid(np.linspace(0, 20, 20), np.linspace(0, 20, 20))\n",
    "\n",
    "# z = (1 - x / 2. + x ** 5 + y ** 3) * np.exp(-x ** 2 - y ** 2)\n",
    "# # x and y are bounds, so z should be the value *inside* those bounds.\n",
    "# # Therefore, remove the last value from the z array.\n",
    "# z = z[:-1, :-1]\n",
    "z = brownie_pan\n",
    "z_min, z_max = 80, np.abs(z).max()\n",
    "\n",
    "fig, ax = plt.subplots()\n",
    "\n",
    "c = ax.pcolormesh(x, y, z, cmap='PuRd', vmin=z_min, vmax=z_max)\n",
    "ax.set_title('Brownie Pan')\n",
    "# set the limits of the plot to the limits of the data\n",
    "ax.axis([x.min(), x.max(), y.min(), y.max()])\n",
    "fig.colorbar(c, ax=ax)\n",
    "\n",
    "plt.show()\n",
    "\n",
    "#TOD EDGES RAE NOT SYMMETRICAL"
   ]
  },
  {
   "cell_type": "code",
   "execution_count": 29,
   "metadata": {},
   "outputs": [
    {
     "ename": "ModuleNotFoundError",
     "evalue": "No module named 'pandas.compat'",
     "output_type": "error",
     "traceback": [
      "\u001b[0;31m---------------------------------------------------------------------------\u001b[0m",
      "\u001b[0;31mModuleNotFoundError\u001b[0m                       Traceback (most recent call last)",
      "\u001b[1;32m/mnt/c/Users/fonar/Documents/ultimate-brownie-pan/square_pan_model.ipynb Cell 6'\u001b[0m in \u001b[0;36m<cell line: 1>\u001b[0;34m()\u001b[0m\n\u001b[0;32m----> <a href='vscode-notebook-cell://wsl%2Bubuntu-20.04/mnt/c/Users/fonar/Documents/ultimate-brownie-pan/square_pan_model.ipynb#ch0000003vscode-remote?line=0'>1</a>\u001b[0m \u001b[39mfrom\u001b[39;00m \u001b[39mmlxtend\u001b[39;00m\u001b[39m.\u001b[39;00m\u001b[39mplotting\u001b[39;00m \u001b[39mimport\u001b[39;00m heatmap\n\u001b[1;32m      <a href='vscode-notebook-cell://wsl%2Bubuntu-20.04/mnt/c/Users/fonar/Documents/ultimate-brownie-pan/square_pan_model.ipynb#ch0000003vscode-remote?line=1'>2</a>\u001b[0m \u001b[39mimport\u001b[39;00m \u001b[39mmatplotlib\u001b[39;00m\u001b[39m.\u001b[39;00m\u001b[39mpyplot\u001b[39;00m \u001b[39mas\u001b[39;00m \u001b[39mplt\u001b[39;00m\n\u001b[1;32m      <a href='vscode-notebook-cell://wsl%2Bubuntu-20.04/mnt/c/Users/fonar/Documents/ultimate-brownie-pan/square_pan_model.ipynb#ch0000003vscode-remote?line=2'>3</a>\u001b[0m \u001b[39mimport\u001b[39;00m \u001b[39mnumpy\u001b[39;00m \u001b[39mas\u001b[39;00m \u001b[39mnp\u001b[39;00m\n",
      "File \u001b[0;32m/mnt/c/Users/fonar/Documents/ultimate-brownie-pan/env/lib/python3.8/site-packages/mlxtend/plotting/__init__.py:14\u001b[0m, in \u001b[0;36m<module>\u001b[0;34m\u001b[0m\n\u001b[1;32m     <a href='file:///mnt/c/Users/fonar/Documents/ultimate-brownie-pan/env/lib/python3.8/site-packages/mlxtend/plotting/__init__.py?line=11'>12</a>\u001b[0m \u001b[39mfrom\u001b[39;00m \u001b[39m.\u001b[39;00m\u001b[39mplot_linear_regression\u001b[39;00m \u001b[39mimport\u001b[39;00m plot_linear_regression\n\u001b[1;32m     <a href='file:///mnt/c/Users/fonar/Documents/ultimate-brownie-pan/env/lib/python3.8/site-packages/mlxtend/plotting/__init__.py?line=12'>13</a>\u001b[0m \u001b[39mfrom\u001b[39;00m \u001b[39m.\u001b[39;00m\u001b[39mremove_chartjunk\u001b[39;00m \u001b[39mimport\u001b[39;00m remove_borders\n\u001b[0;32m---> <a href='file:///mnt/c/Users/fonar/Documents/ultimate-brownie-pan/env/lib/python3.8/site-packages/mlxtend/plotting/__init__.py?line=13'>14</a>\u001b[0m \u001b[39mfrom\u001b[39;00m \u001b[39m.\u001b[39;00m\u001b[39mscatter\u001b[39;00m \u001b[39mimport\u001b[39;00m category_scatter\n\u001b[1;32m     <a href='file:///mnt/c/Users/fonar/Documents/ultimate-brownie-pan/env/lib/python3.8/site-packages/mlxtend/plotting/__init__.py?line=14'>15</a>\u001b[0m \u001b[39mfrom\u001b[39;00m \u001b[39m.\u001b[39;00m\u001b[39mheatmap\u001b[39;00m \u001b[39mimport\u001b[39;00m heatmap\n\u001b[1;32m     <a href='file:///mnt/c/Users/fonar/Documents/ultimate-brownie-pan/env/lib/python3.8/site-packages/mlxtend/plotting/__init__.py?line=15'>16</a>\u001b[0m \u001b[39mfrom\u001b[39;00m \u001b[39m.\u001b[39;00m\u001b[39mstacked_barplot\u001b[39;00m \u001b[39mimport\u001b[39;00m stacked_barplot\n",
      "File \u001b[0;32m/mnt/c/Users/fonar/Documents/ultimate-brownie-pan/env/lib/python3.8/site-packages/mlxtend/plotting/scatter.py:11\u001b[0m, in \u001b[0;36m<module>\u001b[0;34m\u001b[0m\n\u001b[1;32m      <a href='file:///mnt/c/Users/fonar/Documents/ultimate-brownie-pan/env/lib/python3.8/site-packages/mlxtend/plotting/scatter.py?line=0'>1</a>\u001b[0m \u001b[39m# Sebastian Raschka 2014-2020\u001b[39;00m\n\u001b[1;32m      <a href='file:///mnt/c/Users/fonar/Documents/ultimate-brownie-pan/env/lib/python3.8/site-packages/mlxtend/plotting/scatter.py?line=1'>2</a>\u001b[0m \u001b[39m# mlxtend Machine Learning Library Extensions\u001b[39;00m\n\u001b[1;32m      <a href='file:///mnt/c/Users/fonar/Documents/ultimate-brownie-pan/env/lib/python3.8/site-packages/mlxtend/plotting/scatter.py?line=2'>3</a>\u001b[0m \u001b[39m#\u001b[39;00m\n\u001b[0;32m   (...)\u001b[0m\n\u001b[1;32m      <a href='file:///mnt/c/Users/fonar/Documents/ultimate-brownie-pan/env/lib/python3.8/site-packages/mlxtend/plotting/scatter.py?line=5'>6</a>\u001b[0m \u001b[39m#\u001b[39;00m\n\u001b[1;32m      <a href='file:///mnt/c/Users/fonar/Documents/ultimate-brownie-pan/env/lib/python3.8/site-packages/mlxtend/plotting/scatter.py?line=6'>7</a>\u001b[0m \u001b[39m# License: BSD 3 clause\u001b[39;00m\n\u001b[1;32m     <a href='file:///mnt/c/Users/fonar/Documents/ultimate-brownie-pan/env/lib/python3.8/site-packages/mlxtend/plotting/scatter.py?line=9'>10</a>\u001b[0m \u001b[39mimport\u001b[39;00m \u001b[39mmatplotlib\u001b[39;00m\u001b[39m.\u001b[39;00m\u001b[39mpyplot\u001b[39;00m \u001b[39mas\u001b[39;00m \u001b[39mplt\u001b[39;00m\n\u001b[0;32m---> <a href='file:///mnt/c/Users/fonar/Documents/ultimate-brownie-pan/env/lib/python3.8/site-packages/mlxtend/plotting/scatter.py?line=10'>11</a>\u001b[0m \u001b[39mimport\u001b[39;00m \u001b[39mpandas\u001b[39;00m \u001b[39mas\u001b[39;00m \u001b[39mpd\u001b[39;00m\n\u001b[1;32m     <a href='file:///mnt/c/Users/fonar/Documents/ultimate-brownie-pan/env/lib/python3.8/site-packages/mlxtend/plotting/scatter.py?line=11'>12</a>\u001b[0m \u001b[39mimport\u001b[39;00m \u001b[39mnumpy\u001b[39;00m \u001b[39mas\u001b[39;00m \u001b[39mnp\u001b[39;00m\n\u001b[1;32m     <a href='file:///mnt/c/Users/fonar/Documents/ultimate-brownie-pan/env/lib/python3.8/site-packages/mlxtend/plotting/scatter.py?line=12'>13</a>\u001b[0m \u001b[39mfrom\u001b[39;00m \u001b[39mitertools\u001b[39;00m \u001b[39mimport\u001b[39;00m cycle\n",
      "File \u001b[0;32m/mnt/c/Users/fonar/Documents/ultimate-brownie-pan/env/lib/python3.8/site-packages/pandas/__init__.py:22\u001b[0m, in \u001b[0;36m<module>\u001b[0;34m\u001b[0m\n\u001b[1;32m     <a href='file:///mnt/c/Users/fonar/Documents/ultimate-brownie-pan/env/lib/python3.8/site-packages/pandas/__init__.py?line=18'>19</a>\u001b[0m \u001b[39mdel\u001b[39;00m hard_dependencies, dependency, missing_dependencies\n\u001b[1;32m     <a href='file:///mnt/c/Users/fonar/Documents/ultimate-brownie-pan/env/lib/python3.8/site-packages/pandas/__init__.py?line=20'>21</a>\u001b[0m \u001b[39m# numpy compat\u001b[39;00m\n\u001b[0;32m---> <a href='file:///mnt/c/Users/fonar/Documents/ultimate-brownie-pan/env/lib/python3.8/site-packages/pandas/__init__.py?line=21'>22</a>\u001b[0m \u001b[39mfrom\u001b[39;00m \u001b[39mpandas\u001b[39;00m\u001b[39m.\u001b[39;00m\u001b[39mcompat\u001b[39;00m \u001b[39mimport\u001b[39;00m is_numpy_dev \u001b[39mas\u001b[39;00m _is_numpy_dev\n\u001b[1;32m     <a href='file:///mnt/c/Users/fonar/Documents/ultimate-brownie-pan/env/lib/python3.8/site-packages/pandas/__init__.py?line=23'>24</a>\u001b[0m \u001b[39mtry\u001b[39;00m:\n\u001b[1;32m     <a href='file:///mnt/c/Users/fonar/Documents/ultimate-brownie-pan/env/lib/python3.8/site-packages/pandas/__init__.py?line=24'>25</a>\u001b[0m     \u001b[39mfrom\u001b[39;00m \u001b[39mpandas\u001b[39;00m\u001b[39m.\u001b[39;00m\u001b[39m_libs\u001b[39;00m \u001b[39mimport\u001b[39;00m hashtable \u001b[39mas\u001b[39;00m _hashtable, lib \u001b[39mas\u001b[39;00m _lib, tslib \u001b[39mas\u001b[39;00m _tslib\n",
      "\u001b[0;31mModuleNotFoundError\u001b[0m: No module named 'pandas.compat'"
     ]
    }
   ],
   "source": [
    "from mlxtend.plotting import heatmap\n",
    "import matplotlib.pyplot as plt\n",
    "import numpy as np\n",
    "\n",
    "np.random.seed(123)\n",
    "some_array = np.random.random((20, 30))\n",
    "heatmap(brownie_pan, figsize=(20, 10))\n",
    "plt.show()"
   ]
  }
 ],
 "metadata": {
  "interpreter": {
   "hash": "5bee6701c2f39e5c88d87088ac01016bc78e3df6326dd953f61ee2b192a2dfce"
  },
  "kernelspec": {
   "display_name": "Python 3.8.10 ('env': venv)",
   "language": "python",
   "name": "python3"
  },
  "language_info": {
   "codemirror_mode": {
    "name": "ipython",
    "version": 3
   },
   "file_extension": ".py",
   "mimetype": "text/x-python",
   "name": "python",
   "nbconvert_exporter": "python",
   "pygments_lexer": "ipython3",
   "version": "3.8.10"
  },
  "orig_nbformat": 4
 },
 "nbformat": 4,
 "nbformat_minor": 2
}
