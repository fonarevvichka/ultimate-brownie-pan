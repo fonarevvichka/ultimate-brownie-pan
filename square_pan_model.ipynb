{
 "cells": [
  {
   "cell_type": "code",
   "execution_count": 2,
   "metadata": {},
   "outputs": [
    {
     "name": "stdout",
     "output_type": "stream",
     "text": [
      "3.529411764705882e-07\n",
      "1.7357597096632978e-05\n"
     ]
    }
   ],
   "source": [
    "import numpy as np\n",
    "np.set_printoptions(precision=2)\n",
    "\n",
    "room_temp = 18.333\n",
    "side_length = 10\n",
    "oven_temp = 162.778\n",
    "#Target value is 85\n",
    "\n",
    "brownie_density = 500\n",
    "brownie_specific_heat = 2550\n",
    "brownie_conductivity = 0.15 * 3\n",
    "brownie_alpha = brownie_conductivity / (brownie_density * brownie_specific_heat)\n",
    "\n",
    "steel_density = 7832\n",
    "steel_specific_heat = 434\n",
    "steel_conductivity = 59\n",
    "steel_alpha = steel_conductivity / (steel_density * steel_specific_heat)\n",
    "\n",
    "print(brownie_alpha)\n",
    "print(steel_alpha)\n",
    "\n",
    "def initialize_brownie_pan(side_length, room_temp):\n",
    "    return np.full((side_length, side_length), room_temp)\n"
   ]
  },
  {
   "cell_type": "code",
   "execution_count": 1,
   "metadata": {},
   "outputs": [
    {
     "ename": "NameError",
     "evalue": "name 'np' is not defined",
     "output_type": "error",
     "traceback": [
      "\u001b[1;31m---------------------------------------------------------------------------\u001b[0m",
      "\u001b[1;31mNameError\u001b[0m                                 Traceback (most recent call last)",
      "\u001b[1;32mc:\\Users\\fonar\\Documents\\ultimate-brownie-pan\\square_pan_model.ipynb Cell 2'\u001b[0m in \u001b[0;36m<cell line: 1>\u001b[1;34m()\u001b[0m\n\u001b[1;32m----> <a href='vscode-notebook-cell:/c%3A/Users/fonar/Documents/ultimate-brownie-pan/square_pan_model.ipynb#ch0000001?line=0'>1</a>\u001b[0m \u001b[39mdef\u001b[39;00m \u001b[39mheat_transfer_over_increment\u001b[39m(brownie_pan: np\u001b[39m.\u001b[39marray, dx, dt):\n\u001b[0;32m      <a href='vscode-notebook-cell:/c%3A/Users/fonar/Documents/ultimate-brownie-pan/square_pan_model.ipynb#ch0000001?line=1'>2</a>\u001b[0m     time_derivative \u001b[39m=\u001b[39m np\u001b[39m.\u001b[39mzeros(brownie_pan\u001b[39m.\u001b[39mshape)\n\u001b[0;32m      <a href='vscode-notebook-cell:/c%3A/Users/fonar/Documents/ultimate-brownie-pan/square_pan_model.ipynb#ch0000001?line=2'>3</a>\u001b[0m     \u001b[39mfor\u001b[39;00m x \u001b[39min\u001b[39;00m \u001b[39mrange\u001b[39m(side_length):\n",
      "\u001b[1;31mNameError\u001b[0m: name 'np' is not defined"
     ]
    }
   ],
   "source": [
    "def heat_transfer_over_increment(brownie_pan: np.array, dx, dt):\n",
    "    time_derivative = np.zeros(brownie_pan.shape)\n",
    "    for x in range(side_length):\n",
    "        for y in range(side_length):\n",
    "            # edge\n",
    "            if (x == 0 and y == 0): # top left corner\n",
    "                outside_squares = 2 * oven_temp \n",
    "                surrounding_squares = brownie_pan[x][y+1] + brownie_pan[x+1][y] + outside_squares\n",
    "                curr_square = 4 * brownie_pan[x][y]\n",
    "            elif (x == 0 and y == (side_length - 1)): # bottom left corner\n",
    "                outside_squares = 2 * oven_temp \n",
    "                surrounding_squares = brownie_pan[x][y-1] + brownie_pan[x+1][y] + outside_squares\n",
    "                curr_square = 4 * brownie_pan[x][y]\n",
    "            elif (x == (side_length - 1) and y == 0): # top right corner\n",
    "                outside_squares = 2 * oven_temp \n",
    "                surrounding_squares = brownie_pan[x][y+1] + brownie_pan[x-1][y] + outside_squares\n",
    "                curr_square = 4 * brownie_pan[x][y]\n",
    "            elif (x == (side_length - 1) and y == (side_length - 1)): # bottom right corner\n",
    "                outside_squares = 2 * oven_temp \n",
    "                surrounding_squares = brownie_pan[x][y-1] + brownie_pan[x-1][y] + outside_squares\n",
    "                curr_square = 4 * brownie_pan[x][y]\n",
    "            elif x == 0: # left edge\n",
    "                surrounding_squares = brownie_pan[x][y+1] + brownie_pan[x][y-1] + brownie_pan[x+1][y] + oven_temp\n",
    "                curr_square = 4 * brownie_pan[x][y]\n",
    "            elif y == 0: # top edge\n",
    "                surrounding_squares = brownie_pan[x+1][y] + brownie_pan[x-1][y] + brownie_pan[x][y+1] + oven_temp\n",
    "                curr_square = 4 * brownie_pan[x][y]\n",
    "            elif x == (side_length - 1): # right edge\n",
    "                surrounding_squares = brownie_pan[x][y+1] + brownie_pan[x][y-1] + brownie_pan[x-1][y] + oven_temp\n",
    "                curr_square = 4 * brownie_pan[x][y]\n",
    "            elif y == (side_length - 1): # bottom edge\n",
    "                surrounding_squares = brownie_pan[x+1][y] + brownie_pan[x-1][y] + brownie_pan[x][y-1] + oven_temp\n",
    "                curr_square = 4 * brownie_pan[x][y]\n",
    "            else:\n",
    "                surrounding_squares = brownie_pan[x + 1][y] + brownie_pan[x - 1][y] + brownie_pan[x][y + 1] + brownie_pan[x][y - 1]\n",
    "                curr_square = 4 * brownie_pan[x][y]\n",
    "\n",
    "            time_derivative[x][y] = (brownie_alpha / (dx ** 2)) * (surrounding_squares - curr_square)\n",
    "\n",
    "    brownie_pan += (time_derivative * dt)\n",
    "    return brownie_pan\n",
    "\n",
    "brownie_pan = initialize_brownie_pan(side_length, room_temp)\n",
    "for i in range(130000):\n",
    "    brownie_pan = heat_transfer_over_increment(brownie_pan, dx=0.025, dt=0.1) # 0.01 meters (1cm), 0.01 seconds\n",
    "    if brownie_pan[int(side_length/2)][int(side_length/2)] >= 85:\n",
    "        print(f\"{i / 100 / 60} minutes of cooking\")\n",
    "        break\n",
    "\n",
    "print(brownie_pan)"
   ]
  }
 ],
 "metadata": {
  "interpreter": {
   "hash": "5bee6701c2f39e5c88d87088ac01016bc78e3df6326dd953f61ee2b192a2dfce"
  },
  "kernelspec": {
   "display_name": "Python 3.8.10 ('env': venv)",
   "language": "python",
   "name": "python3"
  },
  "language_info": {
   "codemirror_mode": {
    "name": "ipython",
    "version": 3
   },
   "file_extension": ".py",
   "mimetype": "text/x-python",
   "name": "python",
   "nbconvert_exporter": "python",
   "pygments_lexer": "ipython3",
   "version": "3.9.12"
  },
  "orig_nbformat": 4
 },
 "nbformat": 4,
 "nbformat_minor": 2
}
