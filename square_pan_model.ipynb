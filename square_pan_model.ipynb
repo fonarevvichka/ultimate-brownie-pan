{
 "cells": [
  {
   "cell_type": "code",
   "execution_count": 1,
   "metadata": {},
   "outputs": [
    {
     "name": "stdout",
     "output_type": "stream",
     "text": [
      "1.176470588235294e-07\n",
      "1.7357597096632978e-05\n",
      "0.0001\n"
     ]
    }
   ],
   "source": [
    "import numpy as np\n",
    "np.set_printoptions(precision=2)\n",
    "\n",
    "# all temps in centigrade\n",
    "brownie_target = 85\n",
    "room_temp = 18.333\n",
    "side_length = 40\n",
    "pan_temp = room_temp\n",
    "oven_temp = 162.778\n",
    "\n",
    "h = 9.14\n",
    "A = 0.0001 # 0.01m ^2\n",
    "\n",
    "brownie_density = 500\n",
    "brownie_specific_heat = 2550\n",
    "brownie_conductivity = 0.15\n",
    "brownie_alpha = brownie_conductivity / (brownie_density * brownie_specific_heat)\n",
    "\n",
    "steel_density = 7832\n",
    "steel_specific_heat = 434\n",
    "steel_conductivity = 59\n",
    "steel_alpha = steel_conductivity / (steel_density * steel_specific_heat)\n",
    "\n",
    "print(brownie_alpha)\n",
    "print(steel_alpha)\n",
    "print(A)\n",
    "\n",
    "def initialize_brownie_pan(side_length, room_temp):\n",
    "    return np.full((side_length, side_length), room_temp)\n"
   ]
  },
  {
   "cell_type": "code",
   "execution_count": 2,
   "metadata": {},
   "outputs": [],
   "source": [
    "def heat_transfer_over_increment(brownie_pan: np.array, pan_temp, dx, dt):\n",
    "    # heat transfer from oven to pan\n",
    "    d_pan_temp = h * A * (oven_temp - pan_temp)\n",
    "    pan_temp += dt * d_pan_temp \n",
    "\n",
    "    # heat transfer from pan to brownie\n",
    "    time_derivative = np.zeros(brownie_pan.shape)\n",
    "    for x in range(side_length):\n",
    "        for y in range(side_length):\n",
    "            # edge\n",
    "            if (x == 0 and y == 0): # top left corner\n",
    "                outside_squares = 2 * pan_temp \n",
    "                surrounding_squares = brownie_pan[x][y+1] + brownie_pan[x+1][y] + outside_squares\n",
    "                curr_square = 4 * brownie_pan[x][y]\n",
    "            elif (x == 0 and y == (side_length - 1)): # bottom left corner\n",
    "                outside_squares = 2 * pan_temp \n",
    "                surrounding_squares = brownie_pan[x][y-1] + brownie_pan[x+1][y] + outside_squares\n",
    "                curr_square = 4 * brownie_pan[x][y]\n",
    "            elif (x == (side_length - 1) and y == 0): # top right corner\n",
    "                outside_squares = 2 * pan_temp \n",
    "                surrounding_squares = brownie_pan[x][y+1] + brownie_pan[x-1][y] + outside_squares\n",
    "                curr_square = 4 * brownie_pan[x][y]\n",
    "            elif (x == (side_length - 1) and y == (side_length - 1)): # bottom right corner\n",
    "                outside_squares = 2 * pan_temp \n",
    "                surrounding_squares = brownie_pan[x][y-1] + brownie_pan[x-1][y] + outside_squares\n",
    "                curr_square = 4 * brownie_pan[x][y]\n",
    "            elif x == 0: # left edge\n",
    "                surrounding_squares = brownie_pan[x][y+1] + brownie_pan[x][y-1] + brownie_pan[x+1][y] + pan_temp\n",
    "                curr_square = 4 * brownie_pan[x][y]\n",
    "            elif y == 0: # top edge\n",
    "                surrounding_squares = brownie_pan[x+1][y] + brownie_pan[x-1][y] + brownie_pan[x][y+1] + pan_temp\n",
    "                curr_square = 4 * brownie_pan[x][y]\n",
    "            elif x == (side_length - 1): # right edge\n",
    "                surrounding_squares = brownie_pan[x][y+1] + brownie_pan[x][y-1] + brownie_pan[x-1][y] + pan_temp\n",
    "                curr_square = 4 * brownie_pan[x][y]\n",
    "            elif y == (side_length - 1): # bottom edge\n",
    "                surrounding_squares = brownie_pan[x+1][y] + brownie_pan[x-1][y] + brownie_pan[x][y-1] + pan_temp\n",
    "                curr_square = 4 * brownie_pan[x][y]\n",
    "            else:\n",
    "                surrounding_squares = brownie_pan[x + 1][y] + brownie_pan[x - 1][y] + brownie_pan[x][y + 1] + brownie_pan[x][y - 1]\n",
    "                curr_square = 4 * brownie_pan[x][y]\n",
    "\n",
    "            time_derivative[x][y] = (brownie_alpha / (dx ** 2)) * (surrounding_squares - curr_square)\n",
    "\n",
    "    brownie_pan += (time_derivative * dt)\n",
    "    return brownie_pan, pan_temp\n",
    "\n"
   ]
  },
  {
   "cell_type": "code",
   "execution_count": 3,
   "metadata": {},
   "outputs": [
    {
     "name": "stdout",
     "output_type": "stream",
     "text": [
      "347.9398333333333 minutes of cooking\n",
      "162.77799925375163\n",
      "[[162.3  161.83 161.37 ... 161.37 161.83 162.3 ]\n",
      " [161.83 160.9  159.97 ... 159.97 160.9  161.83]\n",
      " [161.37 159.97 158.59 ... 158.59 159.97 161.37]\n",
      " ...\n",
      " [161.37 159.97 158.59 ... 158.59 159.97 161.37]\n",
      " [161.83 160.9  159.97 ... 159.97 160.9  161.83]\n",
      " [162.3  161.83 161.37 ... 161.37 161.83 162.3 ]]\n"
     ]
    }
   ],
   "source": [
    "brownie_pan = initialize_brownie_pan(side_length, room_temp)\n",
    "counter = 0\n",
    "while True:\n",
    "    brownie_pan, pan_temp = heat_transfer_over_increment(brownie_pan, pan_temp, dx=0.005, dt=0.01) # 0.01 meters (1cm), 0.01 seconds\n",
    "    # if counter % 10000 == 0:\n",
    "    #     print(brownie_pan)\n",
    "    counter += 1\n",
    "    if brownie_pan[int(side_length/2)][int(side_length/2)] >= brownie_target:\n",
    "        print(f\"{counter / 100 / 60} minutes of cooking\")\n",
    "        print(pan_temp)\n",
    "        break\n",
    "\n",
    "print(brownie_pan)"
   ]
  },
  {
   "cell_type": "code",
   "execution_count": 4,
   "metadata": {},
   "outputs": [
    {
     "name": "stdout",
     "output_type": "stream",
     "text": [
      "41.286443570310446\n"
     ]
    }
   ],
   "source": [
    "cooked_baseline = np.full((side_length, side_length), brownie_target + 3)\n",
    "\n",
    "over_cooked = brownie_pan - cooked_baseline\n",
    "over_cooked = over_cooked.clip(min=0)\n",
    "\n",
    "avg_error = np.sum(over_cooked) / (side_length ** 2)\n",
    "\n",
    "print(avg_error)"
   ]
  },
  {
   "cell_type": "code",
   "execution_count": 5,
   "metadata": {},
   "outputs": [
    {
     "data": {
      "image/png": "[encoded data removed]",
      "text/plain": [
       "<Figure size 432x288 with 2 Axes>"
      ]
     },
     "metadata": {
      "needs_background": "light"
     },
     "output_type": "display_data"
    }
   ],
   "source": [
    "import matplotlib.pyplot as plt\n",
    "import numpy as np\n",
    "\n",
    "# generate 2 2d grids for the x & y bounds\n",
    "y, x = np.meshgrid(np.linspace(0, side_length, side_length), np.linspace(0, side_length, side_length))\n",
    "\n",
    "# z = (1 - x / 2. + x ** 5 + y ** 3) * np.exp(-x ** 2 - y ** 2)\n",
    "# # x and y are bounds, so z should be the value *inside* those bounds.\n",
    "# # Therefore, remove the last value from the z array.\n",
    "# z = z[:-1, :-1]\n",
    "z = brownie_pan\n",
    "z_min, z_max = 75, np.abs(z).max()\n",
    "\n",
    "fig, ax = plt.subplots()\n",
    "\n",
    "c = ax.pcolormesh(x, y, z, cmap='PuRd', vmin=z_min, vmax=z_max, shading='auto')\n",
    "ax.set_title('Brownie Pan')\n",
    "# set the limits of the plot to the limits of the data\n",
    "ax.axis([x.min(), x.max(), y.min(), y.max()])\n",
    "fig.colorbar(c, ax=ax)\n",
    "\n",
    "plt.show()"
   ]
  }
 ],
 "metadata": {
  "interpreter": {
   "hash": "5bee6701c2f39e5c88d87088ac01016bc78e3df6326dd953f61ee2b192a2dfce"
  },
  "kernelspec": {
   "display_name": "Python 3.8.10 ('env': venv)",
   "language": "python",
   "name": "python3"
  },
  "language_info": {
   "codemirror_mode": {
    "name": "ipython",
    "version": 3
   },
   "file_extension": ".py",
   "mimetype": "text/x-python",
   "name": "python",
   "nbconvert_exporter": "python",
   "pygments_lexer": "ipython3",
   "version": "3.8.10"
  },
  "orig_nbformat": 4
 },
 "nbformat": 4,
 "nbformat_minor": 2
}
