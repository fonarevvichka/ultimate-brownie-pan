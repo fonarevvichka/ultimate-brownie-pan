{
 "cells": [
  {
   "cell_type": "code",
   "execution_count": 14,
   "metadata": {},
   "outputs": [],
   "source": [
    "import numpy as np\n",
    "\n",
    "room_temp = 65\n",
    "side_length = 10\n",
    "\n",
    "brownie_pan = np.full((side_length, side_length), room_temp)"
   ]
  },
  {
   "cell_type": "code",
   "execution_count": 18,
   "metadata": {},
   "outputs": [
    {
     "data": {
      "text/plain": [
       "array([[65, 65, 65, 65, 65, 65, 65, 65, 65, 65],\n",
       "       [65, 65, 65, 65, 65, 65, 65, 65, 65, 65],\n",
       "       [65, 65, 65, 65, 65, 65, 65, 65, 65, 65],\n",
       "       [65, 65, 65, 65, 65, 65, 65, 65, 65, 65],\n",
       "       [65, 65, 65, 65, 65, 65, 65, 65, 65, 65],\n",
       "       [65, 65, 65, 65, 65, 65, 65, 65, 65, 65],\n",
       "       [65, 65, 65, 65, 65, 65, 65, 65, 65, 65],\n",
       "       [65, 65, 65, 65, 65, 65, 65, 65, 65, 65],\n",
       "       [65, 65, 65, 65, 65, 65, 65, 65, 65, 65],\n",
       "       [65, 65, 65, 65, 65, 65, 65, 65, 65, 65]])"
      ]
     },
     "execution_count": 18,
     "metadata": {},
     "output_type": "execute_result"
    }
   ],
   "source": [
    "brownie_density =  500\n",
    "brownie_specific_heat = 434\n",
    "brownie_conductivity = 59\n",
    "\n",
    "alpha = brownie_conductivity / (brownie_density * brownie_specific_heat)\n",
    "\n",
    "def heat_transfer_over_increment(brownie_pan: np.array):\n",
    "    for x in range(side_length):\n",
    "        for y in range(side_length):\n",
    "            # edge\n",
    "            if (x == 0 and y == 0) or (x == 0 and y == (side_length - 1)) or (x == (side_length - 1) and y == 0) or (x == (side_length - 1) and y == (side_length - 1)):\n",
    "                # print('corner')\n",
    "                continue\n",
    "            elif x == 0 or y == 0 or x == (side_length - 1) or y == (side_length - 1):\n",
    "                continue\n",
    "            else:\n",
    "                f_naught = alpha\n",
    "                surrounding_squares = brownie_pan[x + 1][y] + brownie_pan[x - 1][y] + brownie_pan[x][y + 1] + brownie_pan[x][y - 1]\n",
    "                same_square = (4 - (1/f_naught)) * brownie_pan[x][y]\n",
    "                brownie_pan[x][y] = (surrounding_squares - same_square) * f_naught\n",
    "\n",
    "\n",
    "brownie_pan"
   ]
  }
 ],
 "metadata": {
  "interpreter": {
   "hash": "5bee6701c2f39e5c88d87088ac01016bc78e3df6326dd953f61ee2b192a2dfce"
  },
  "kernelspec": {
   "display_name": "Python 3.8.10 ('env': venv)",
   "language": "python",
   "name": "python3"
  },
  "language_info": {
   "codemirror_mode": {
    "name": "ipython",
    "version": 3
   },
   "file_extension": ".py",
   "mimetype": "text/x-python",
   "name": "python",
   "nbconvert_exporter": "python",
   "pygments_lexer": "ipython3",
   "version": "3.8.10"
  },
  "orig_nbformat": 4
 },
 "nbformat": 4,
 "nbformat_minor": 2
}
