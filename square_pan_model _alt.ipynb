{
 "cells": [
  {
   "cell_type": "code",
   "execution_count": 57,
   "metadata": {},
   "outputs": [
    {
     "name": "stdout",
     "output_type": "stream",
     "text": [
      "1.176470588235294e-07\n"
     ]
    }
   ],
   "source": [
    "import numpy as np\n",
    "np.set_printoptions(precision=2)\n",
    "\n",
    "room_temp = 18.333\n",
    "side_length = 5\n",
    "oven_temp = 162.778\n",
    "\n",
    "\n",
    "brownie_density = 500\n",
    "brownie_specific_heat = 2550\n",
    "brownie_conductivity = 0.15\n",
    "brownie_alpha = brownie_conductivity / (brownie_density * brownie_specific_heat)\n",
    "\n",
    "steel_density = 7832\n",
    "steel_specific_heat = 434\n",
    "steel_conductivity = 59\n",
    "steel_alpha = steel_conductivity / (steel_density * steel_specific_heat)\n",
    "\n",
    "print(brownie_alpha)\n",
    "\n",
    "def initialize_brownie_pan(side_length, room_temp):\n",
    "    return np.full((side_length, side_length), room_temp)\n"
   ]
  },
  {
   "cell_type": "code",
   "execution_count": 62,
   "metadata": {},
   "outputs": [
    {
     "data": {
      "text/plain": [
       "array([[573.16574582, 298.98766143, 297.38431966, 298.98762974,\n",
       "        573.16577789],\n",
       "       [298.98766143,  21.60289386,  19.98079982,  21.60286143,\n",
       "        298.9876618 ],\n",
       "       [297.38431966,  19.98079982,  18.35859613,  19.98076738,\n",
       "        297.38431966],\n",
       "       [298.98762974,  21.60286143,  19.98076738,  21.60282899,\n",
       "        298.98763011],\n",
       "       [573.16577789, 298.9876618 , 297.38431966, 298.98763011,\n",
       "        573.16580996]])"
      ]
     },
     "execution_count": 62,
     "metadata": {},
     "output_type": "execute_result"
    }
   ],
   "source": [
    "def heat_transfer_over_increment(brownie_pan: np.array):\n",
    "    for x in range(side_length):\n",
    "        for y in range(side_length):\n",
    "            # edge\n",
    "            if (x == 0 and y == 0): # top left corner\n",
    "                outside_squares = 2 * oven_temp \n",
    "                surrounding_squares = brownie_pan[x][y+1] + brownie_pan[x+1][y]\n",
    "                same_square = (4 - (1/brownie_alpha)) * brownie_pan[x][y]\n",
    "\n",
    "                brownie_pan[x][y] = outside_squares * steel_alpha + (surrounding_squares - same_square) * brownie_alpha\n",
    "            elif (x == 0 and y == (side_length - 1)): # bottom left corner\n",
    "                outside_squares = 2 * oven_temp \n",
    "                surrounding_squares = brownie_pan[x][y-1] + brownie_pan[x+1][y]\n",
    "                same_square = (4 - (1/brownie_alpha)) * brownie_pan[x][y]\n",
    "\n",
    "                brownie_pan[x][y] = outside_squares * steel_alpha + (surrounding_squares - same_square) * brownie_alpha\n",
    "            elif (x == (side_length - 1) and y == 0): # top right corner\n",
    "                outside_squares = 2 * oven_temp \n",
    "                surrounding_squares = brownie_pan[x][y+1] + brownie_pan[x-1][y]\n",
    "                same_square = (4 - (1/brownie_alpha)) * brownie_pan[x][y]\n",
    "\n",
    "                brownie_pan[x][y] = outside_squares * steel_alpha + (surrounding_squares - same_square) * brownie_alpha\n",
    "            elif (x == (side_length - 1) and y == (side_length - 1)): # bottom right corner\n",
    "                outside_squares = 2 * oven_temp \n",
    "                surrounding_squares = brownie_pan[x][y-1] + brownie_pan[x-1][y]\n",
    "                same_square = (4 - (1/brownie_alpha)) * brownie_pan[x][y]\n",
    "\n",
    "                brownie_pan[x][y] = outside_squares * steel_alpha + (surrounding_squares - same_square) * brownie_alpha\n",
    "            elif x == 0: # left edge\n",
    "                surrounding_squares = brownie_pan[x][y+1] + brownie_pan[x][y-1] + brownie_pan[x+1][y]\n",
    "                same_square = (4 - (1/brownie_alpha)) * brownie_pan[x][y]\n",
    "\n",
    "                brownie_pan[x][y] = steel_alpha * oven_temp + brownie_alpha * (surrounding_squares - same_square)\n",
    "            elif y == 0: # top edge\n",
    "                surrounding_squares = brownie_pan[x+1][y] + brownie_pan[x-1][y] + brownie_pan[x][y+1]\n",
    "                same_square = (4 - (1/brownie_alpha)) * brownie_pan[x][y]\n",
    "\n",
    "                brownie_pan[x][y] = steel_alpha * oven_temp + brownie_alpha * (surrounding_squares - same_square)\n",
    "            elif x == (side_length - 1): # right edge\n",
    "                surrounding_squares = brownie_pan[x][y+1] + brownie_pan[x][y-1] + brownie_pan[x-1][y]\n",
    "                same_square = (4 - (1/brownie_alpha)) * brownie_pan[x][y]\n",
    "\n",
    "                brownie_pan[x][y] = steel_alpha * oven_temp + brownie_alpha * (surrounding_squares - same_square)\n",
    "            elif y == (side_length - 1): # bottom edge\n",
    "                surrounding_squares = brownie_pan[x+1][y] + brownie_pan[x-1][y] + brownie_pan[x][y-1]\n",
    "                same_square = (4 - (1/brownie_alpha)) * brownie_pan[x][y]\n",
    "\n",
    "                brownie_pan[x][y] = steel_alpha * oven_temp + brownie_alpha * (surrounding_squares - same_square)\n",
    "            else:\n",
    "                surrounding_squares = brownie_pan[x + 1][y] + brownie_pan[x - 1][y] + brownie_pan[x][y + 1] + brownie_pan[x][y - 1]\n",
    "                same_square = (4 - (1/brownie_alpha)) * brownie_pan[x][y]\n",
    "\n",
    "                brownie_pan[x][y] = (surrounding_squares - same_square) * brownie_alpha\n",
    "\n",
    "brownie_pan = initialize_brownie_pan(side_length, room_temp)\n",
    "for _ in range(100000):\n",
    "    heat_transfer_over_increment(brownie_pan)\n",
    "brownie_pan"
   ]
  }
 ],
 "metadata": {
  "interpreter": {
   "hash": "5bee6701c2f39e5c88d87088ac01016bc78e3df6326dd953f61ee2b192a2dfce"
  },
  "kernelspec": {
   "display_name": "Python 3.8.10 ('env': venv)",
   "language": "python",
   "name": "python3"
  },
  "language_info": {
   "codemirror_mode": {
    "name": "ipython",
    "version": 3
   },
   "file_extension": ".py",
   "mimetype": "text/x-python",
   "name": "python",
   "nbconvert_exporter": "python",
   "pygments_lexer": "ipython3",
   "version": "3.8.10"
  },
  "orig_nbformat": 4
 },
 "nbformat": 4,
 "nbformat_minor": 2
}
