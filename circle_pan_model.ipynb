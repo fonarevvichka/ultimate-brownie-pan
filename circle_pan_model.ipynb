{
 "cells": [
  {
   "cell_type": "code",
   "execution_count": 42,
   "metadata": {},
   "outputs": [
    {
     "name": "stdout",
     "output_type": "stream",
     "text": [
      "3.529411764705882e-07\n",
      "1.7357597096632978e-05\n"
     ]
    }
   ],
   "source": [
    "import numpy as np\n",
    "np.set_printoptions(precision=2)\n",
    "\n",
    "room_temp = 18.333\n",
    "side_length = 11\n",
    "pan_temp = room_temp\n",
    "oven_temp = 162.778\n",
    "brownie_target = 85\n",
    "\n",
    "h = 9.14\n",
    "A = 0.0001 # approx 0.01m ^2, 5.208 degree slice\n",
    "\n",
    "brownie_density = 500\n",
    "brownie_specific_heat = 2550\n",
    "brownie_conductivity = 0.15 * 3\n",
    "brownie_alpha = brownie_conductivity / (brownie_density * brownie_specific_heat)\n",
    "\n",
    "steel_density = 7832\n",
    "steel_specific_heat = 434\n",
    "steel_conductivity = 59\n",
    "steel_alpha = steel_conductivity / (steel_density * steel_specific_heat)\n",
    "\n",
    "print(brownie_alpha)\n",
    "print(steel_alpha)\n",
    "\n",
    "def initialize_brownie_slice(side_length, room_temp):\n",
    "    return np.full(side_length, room_temp)\n"
   ]
  },
  {
   "cell_type": "code",
   "execution_count": 43,
   "metadata": {},
   "outputs": [],
   "source": [
    "brownie_slice = initialize_brownie_slice(side_length, room_temp)\n",
    "\n",
    "def heat_transfer_over_increment(brownie_slice: np.array, pan_temp, dr, dt):\n",
    "    # oven to pan\n",
    "    d_pan_temp = h * A * (oven_temp - pan_temp)\n",
    "    pan_temp += dt * d_pan_temp \n",
    "\n",
    "    # pan to brownie\n",
    "    time_derivative = np.zeros(brownie_slice.shape)\n",
    "    for i, temp in enumerate(brownie_slice):\n",
    "        if i == 0:\n",
    "            outside_neighbour = brownie_slice[i+1]\n",
    "            inside_neighbour = temp\n",
    "        elif i == side_length - 1:\n",
    "            outside_neighbour = pan_temp\n",
    "            inside_neighbour = brownie_slice[i-1]\n",
    "        else:\n",
    "            outside_neighbour = brownie_slice[i-1]\n",
    "            inside_neighbour = brownie_slice[i+1]\n",
    "\n",
    "        r = i + 0.5\n",
    "        first_term = (r-.5) * ((inside_neighbour - temp) / dr) - ((r+0.5) * (temp - outside_neighbour) / dr)\n",
    "        first_term += (pan_temp * r)/dr\n",
    "        time_derivative[i] = brownie_alpha * (1/r) * first_term * (1/dr)\n",
    "\n",
    "    brownie_slice += (time_derivative * dt)\n",
    "    \n",
    "    return brownie_slice, pan_temp"
   ]
  },
  {
   "cell_type": "code",
   "execution_count": 44,
   "metadata": {},
   "outputs": [
    {
     "name": "stdout",
     "output_type": "stream",
     "text": [
      "17.831333333333337 minutes of cooking\n",
      "[85.   85.   85.   85.   85.   85.   85.02 85.15 85.85 88.97 98.4 ]\n"
     ]
    }
   ],
   "source": [
    "brownie_slice = initialize_brownie_slice(side_length, room_temp)\n",
    "counter = 0\n",
    "while True:\n",
    "    brownie_slice, pan_temp = heat_transfer_over_increment(brownie_slice, pan_temp, dr=0.02, dt=0.01) # 0.01 meters (1cm), 0.01 seconds\n",
    "    counter += 1\n",
    "    # if counter % 10000 == 0:\n",
    "      # print(brownie_slice)\n",
    "    if brownie_slice[0] >= brownie_target:\n",
    "\n",
    "        print(f\"{counter / 100 / 60} minutes of cooking\")\n",
    "        break\n",
    "\n",
    "print(brownie_slice)"
   ]
  },
  {
   "cell_type": "code",
   "execution_count": 45,
   "metadata": {},
   "outputs": [
    {
     "name": "stdout",
     "output_type": "stream",
     "text": [
      "1.033166866297293\n"
     ]
    }
   ],
   "source": [
    "import math\n",
    "\n",
    "cooked_baseline = np.full(side_length, brownie_target + 3)\n",
    "\n",
    "over_cooked = brownie_slice - cooked_baseline\n",
    "over_cooked = over_cooked.clip(min=0)\n",
    "# avg_error = (np.sum(over_cooked) * (22 * math.pi)) / (math.pi * side_length**2)\n",
    "\n",
    "avg_error = np.sum(over_cooked) / 11\n",
    "\n",
    "print(avg_error)"
   ]
  },
  {
   "cell_type": "code",
   "execution_count": 46,
   "metadata": {},
   "outputs": [
    {
     "data": {
      "image/png": "[encoded data removed]",
      "text/plain": [
       "<Figure size 432x288 with 2 Axes>"
      ]
     },
     "metadata": {
      "needs_background": "light"
     },
     "output_type": "display_data"
    }
   ],
   "source": [
    "import matplotlib.pyplot as plt\n",
    "import numpy as np\n",
    "import math\n",
    "\n",
    "# convert 1D array into circle\n",
    "brownie_pan = np.full((side_length*2, side_length*2), oven_temp)\n",
    "radius = side_length\n",
    "# for x in range(side_length-1, 2*side_length):\n",
    "#     for y in range(side_length-1, 2*side_length):\n",
    "for x in range(2*side_length):\n",
    "    for y in range(2*side_length):\n",
    "        dist_from_center = math.sqrt(((x+1) - radius)**2 + ((y+1)-radius)**2)\n",
    "        if dist_from_center <= side_length:\n",
    "            brownie_pan[x][y] = brownie_slice[int(dist_from_center - 1)]\n",
    "\n",
    "# generate 2 2d grids for the x & y bounds\n",
    "y, x = np.meshgrid(np.linspace(0, side_length*2, side_length*2), np.linspace(0, side_length*2, side_length*2))\n",
    "\n",
    "# z = (1 - x / 2. + x ** 5 + y ** 3) * np.exp(-x ** 2 - y ** 2)\n",
    "# # x and y are bounds, so z should be the value *inside* those bounds.\n",
    "# # Therefore, remove the last value from the z array.\n",
    "# z = z[:-1, :-1]\n",
    "z = brownie_pan\n",
    "z_min, z_max = 75, np.abs(z).max()\n",
    "\n",
    "fig, ax = plt.subplots()\n",
    "\n",
    "c = ax.pcolormesh(x, y, z, cmap='PuRd', vmin=z_min, vmax=z_max, shading='auto')\n",
    "ax.set_title('Brownie Pan')\n",
    "# set the limits of the plot to the limits of the data\n",
    "ax.axis([x.min(), x.max(), y.min(), y.max()])\n",
    "fig.colorbar(c, ax=ax)\n",
    "\n",
    "plt.show()"
   ]
  }
 ],
 "metadata": {
  "interpreter": {
   "hash": "916dbcbb3f70747c44a77c7bcd40155683ae19c65e1c03b4aa3499c5328201f1"
  },
  "kernelspec": {
   "display_name": "Python 3.8.10 64-bit",
   "language": "python",
   "name": "python3"
  },
  "language_info": {
   "codemirror_mode": {
    "name": "ipython",
    "version": 3
   },
   "file_extension": ".py",
   "mimetype": "text/x-python",
   "name": "python",
   "nbconvert_exporter": "python",
   "pygments_lexer": "ipython3",
   "version": "3.8.10"
  },
  "orig_nbformat": 4
 },
 "nbformat": 4,
 "nbformat_minor": 2
}
